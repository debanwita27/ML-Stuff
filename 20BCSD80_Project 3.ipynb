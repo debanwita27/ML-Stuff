{
 "cells": [
  {
   "cell_type": "markdown",
   "id": "2b0403b7",
   "metadata": {},
   "source": [
    "<h2 align=\"center\">Problem Statement <br><br> Finding out per captia income of Canadian citizen in 2021</h2>"
   ]
  },
  {
   "cell_type": "markdown",
   "id": "974e064c",
   "metadata": {},
   "source": [
    "# Part A: Data Preprocessing"
   ]
  },
  {
   "cell_type": "markdown",
   "id": "103648d2",
   "metadata": {},
   "source": [
    "## Step 1 : Import Libraries"
   ]
  },
  {
   "cell_type": "code",
   "execution_count": 1,
   "id": "4342ed5d",
   "metadata": {},
   "outputs": [],
   "source": [
    "import numpy as np\n",
    "import pandas as pd"
   ]
  },
  {
   "cell_type": "markdown",
   "id": "2c66aba6",
   "metadata": {},
   "source": [
    "**numpy: linear algebra (vectos and matrices)  \n",
    "pandas: open source data for analysis and manipulation tool**"
   ]
  },
  {
   "cell_type": "markdown",
   "id": "68549644",
   "metadata": {},
   "source": [
    "## Step 2: Import data set"
   ]
  },
  {
   "cell_type": "code",
   "execution_count": 2,
   "id": "a1e0f9c9",
   "metadata": {},
   "outputs": [
    {
     "data": {
      "text/html": [
       "<div>\n",
       "<style scoped>\n",
       "    .dataframe tbody tr th:only-of-type {\n",
       "        vertical-align: middle;\n",
       "    }\n",
       "\n",
       "    .dataframe tbody tr th {\n",
       "        vertical-align: top;\n",
       "    }\n",
       "\n",
       "    .dataframe thead th {\n",
       "        text-align: right;\n",
       "    }\n",
       "</style>\n",
       "<table border=\"1\" class=\"dataframe\">\n",
       "  <thead>\n",
       "    <tr style=\"text-align: right;\">\n",
       "      <th></th>\n",
       "      <th>year</th>\n",
       "      <th>per capita income (US$)</th>\n",
       "    </tr>\n",
       "  </thead>\n",
       "  <tbody>\n",
       "    <tr>\n",
       "      <th>0</th>\n",
       "      <td>1970</td>\n",
       "      <td>3399.299037</td>\n",
       "    </tr>\n",
       "    <tr>\n",
       "      <th>1</th>\n",
       "      <td>1971</td>\n",
       "      <td>3768.297935</td>\n",
       "    </tr>\n",
       "    <tr>\n",
       "      <th>2</th>\n",
       "      <td>1972</td>\n",
       "      <td>4251.175484</td>\n",
       "    </tr>\n",
       "    <tr>\n",
       "      <th>3</th>\n",
       "      <td>1973</td>\n",
       "      <td>4804.463248</td>\n",
       "    </tr>\n",
       "    <tr>\n",
       "      <th>4</th>\n",
       "      <td>1974</td>\n",
       "      <td>5576.514583</td>\n",
       "    </tr>\n",
       "    <tr>\n",
       "      <th>5</th>\n",
       "      <td>1975</td>\n",
       "      <td>5998.144346</td>\n",
       "    </tr>\n",
       "    <tr>\n",
       "      <th>6</th>\n",
       "      <td>1976</td>\n",
       "      <td>7062.131392</td>\n",
       "    </tr>\n",
       "    <tr>\n",
       "      <th>7</th>\n",
       "      <td>1977</td>\n",
       "      <td>7100.126170</td>\n",
       "    </tr>\n",
       "    <tr>\n",
       "      <th>8</th>\n",
       "      <td>1978</td>\n",
       "      <td>7247.967035</td>\n",
       "    </tr>\n",
       "    <tr>\n",
       "      <th>9</th>\n",
       "      <td>1979</td>\n",
       "      <td>7602.912681</td>\n",
       "    </tr>\n",
       "    <tr>\n",
       "      <th>10</th>\n",
       "      <td>1980</td>\n",
       "      <td>8355.968120</td>\n",
       "    </tr>\n",
       "    <tr>\n",
       "      <th>11</th>\n",
       "      <td>1981</td>\n",
       "      <td>9434.390652</td>\n",
       "    </tr>\n",
       "    <tr>\n",
       "      <th>12</th>\n",
       "      <td>1982</td>\n",
       "      <td>9619.438377</td>\n",
       "    </tr>\n",
       "    <tr>\n",
       "      <th>13</th>\n",
       "      <td>1983</td>\n",
       "      <td>10416.536590</td>\n",
       "    </tr>\n",
       "    <tr>\n",
       "      <th>14</th>\n",
       "      <td>1984</td>\n",
       "      <td>10790.328720</td>\n",
       "    </tr>\n",
       "    <tr>\n",
       "      <th>15</th>\n",
       "      <td>1985</td>\n",
       "      <td>11018.955850</td>\n",
       "    </tr>\n",
       "    <tr>\n",
       "      <th>16</th>\n",
       "      <td>1986</td>\n",
       "      <td>11482.891530</td>\n",
       "    </tr>\n",
       "    <tr>\n",
       "      <th>17</th>\n",
       "      <td>1987</td>\n",
       "      <td>12974.806620</td>\n",
       "    </tr>\n",
       "    <tr>\n",
       "      <th>18</th>\n",
       "      <td>1988</td>\n",
       "      <td>15080.283450</td>\n",
       "    </tr>\n",
       "    <tr>\n",
       "      <th>19</th>\n",
       "      <td>1989</td>\n",
       "      <td>16426.725480</td>\n",
       "    </tr>\n",
       "    <tr>\n",
       "      <th>20</th>\n",
       "      <td>1990</td>\n",
       "      <td>16838.673200</td>\n",
       "    </tr>\n",
       "    <tr>\n",
       "      <th>21</th>\n",
       "      <td>1991</td>\n",
       "      <td>17266.097690</td>\n",
       "    </tr>\n",
       "    <tr>\n",
       "      <th>22</th>\n",
       "      <td>1992</td>\n",
       "      <td>16412.083090</td>\n",
       "    </tr>\n",
       "    <tr>\n",
       "      <th>23</th>\n",
       "      <td>1993</td>\n",
       "      <td>15875.586730</td>\n",
       "    </tr>\n",
       "    <tr>\n",
       "      <th>24</th>\n",
       "      <td>1994</td>\n",
       "      <td>15755.820270</td>\n",
       "    </tr>\n",
       "    <tr>\n",
       "      <th>25</th>\n",
       "      <td>1995</td>\n",
       "      <td>16369.317250</td>\n",
       "    </tr>\n",
       "    <tr>\n",
       "      <th>26</th>\n",
       "      <td>1996</td>\n",
       "      <td>16699.826680</td>\n",
       "    </tr>\n",
       "    <tr>\n",
       "      <th>27</th>\n",
       "      <td>1997</td>\n",
       "      <td>17310.757750</td>\n",
       "    </tr>\n",
       "    <tr>\n",
       "      <th>28</th>\n",
       "      <td>1998</td>\n",
       "      <td>16622.671870</td>\n",
       "    </tr>\n",
       "    <tr>\n",
       "      <th>29</th>\n",
       "      <td>1999</td>\n",
       "      <td>17581.024140</td>\n",
       "    </tr>\n",
       "    <tr>\n",
       "      <th>30</th>\n",
       "      <td>2000</td>\n",
       "      <td>18987.382410</td>\n",
       "    </tr>\n",
       "    <tr>\n",
       "      <th>31</th>\n",
       "      <td>2001</td>\n",
       "      <td>18601.397240</td>\n",
       "    </tr>\n",
       "    <tr>\n",
       "      <th>32</th>\n",
       "      <td>2002</td>\n",
       "      <td>19232.175560</td>\n",
       "    </tr>\n",
       "    <tr>\n",
       "      <th>33</th>\n",
       "      <td>2003</td>\n",
       "      <td>22739.426280</td>\n",
       "    </tr>\n",
       "    <tr>\n",
       "      <th>34</th>\n",
       "      <td>2004</td>\n",
       "      <td>25719.147150</td>\n",
       "    </tr>\n",
       "    <tr>\n",
       "      <th>35</th>\n",
       "      <td>2005</td>\n",
       "      <td>29198.055690</td>\n",
       "    </tr>\n",
       "    <tr>\n",
       "      <th>36</th>\n",
       "      <td>2006</td>\n",
       "      <td>32738.262900</td>\n",
       "    </tr>\n",
       "    <tr>\n",
       "      <th>37</th>\n",
       "      <td>2007</td>\n",
       "      <td>36144.481220</td>\n",
       "    </tr>\n",
       "    <tr>\n",
       "      <th>38</th>\n",
       "      <td>2008</td>\n",
       "      <td>37446.486090</td>\n",
       "    </tr>\n",
       "    <tr>\n",
       "      <th>39</th>\n",
       "      <td>2009</td>\n",
       "      <td>32755.176820</td>\n",
       "    </tr>\n",
       "    <tr>\n",
       "      <th>40</th>\n",
       "      <td>2010</td>\n",
       "      <td>38420.522890</td>\n",
       "    </tr>\n",
       "    <tr>\n",
       "      <th>41</th>\n",
       "      <td>2011</td>\n",
       "      <td>42334.711210</td>\n",
       "    </tr>\n",
       "    <tr>\n",
       "      <th>42</th>\n",
       "      <td>2012</td>\n",
       "      <td>42665.255970</td>\n",
       "    </tr>\n",
       "    <tr>\n",
       "      <th>43</th>\n",
       "      <td>2013</td>\n",
       "      <td>42676.468370</td>\n",
       "    </tr>\n",
       "    <tr>\n",
       "      <th>44</th>\n",
       "      <td>2014</td>\n",
       "      <td>41039.893600</td>\n",
       "    </tr>\n",
       "    <tr>\n",
       "      <th>45</th>\n",
       "      <td>2015</td>\n",
       "      <td>35175.188980</td>\n",
       "    </tr>\n",
       "    <tr>\n",
       "      <th>46</th>\n",
       "      <td>2016</td>\n",
       "      <td>34229.193630</td>\n",
       "    </tr>\n",
       "  </tbody>\n",
       "</table>\n",
       "</div>"
      ],
      "text/plain": [
       "    year  per capita income (US$)\n",
       "0   1970              3399.299037\n",
       "1   1971              3768.297935\n",
       "2   1972              4251.175484\n",
       "3   1973              4804.463248\n",
       "4   1974              5576.514583\n",
       "5   1975              5998.144346\n",
       "6   1976              7062.131392\n",
       "7   1977              7100.126170\n",
       "8   1978              7247.967035\n",
       "9   1979              7602.912681\n",
       "10  1980              8355.968120\n",
       "11  1981              9434.390652\n",
       "12  1982              9619.438377\n",
       "13  1983             10416.536590\n",
       "14  1984             10790.328720\n",
       "15  1985             11018.955850\n",
       "16  1986             11482.891530\n",
       "17  1987             12974.806620\n",
       "18  1988             15080.283450\n",
       "19  1989             16426.725480\n",
       "20  1990             16838.673200\n",
       "21  1991             17266.097690\n",
       "22  1992             16412.083090\n",
       "23  1993             15875.586730\n",
       "24  1994             15755.820270\n",
       "25  1995             16369.317250\n",
       "26  1996             16699.826680\n",
       "27  1997             17310.757750\n",
       "28  1998             16622.671870\n",
       "29  1999             17581.024140\n",
       "30  2000             18987.382410\n",
       "31  2001             18601.397240\n",
       "32  2002             19232.175560\n",
       "33  2003             22739.426280\n",
       "34  2004             25719.147150\n",
       "35  2005             29198.055690\n",
       "36  2006             32738.262900\n",
       "37  2007             36144.481220\n",
       "38  2008             37446.486090\n",
       "39  2009             32755.176820\n",
       "40  2010             38420.522890\n",
       "41  2011             42334.711210\n",
       "42  2012             42665.255970\n",
       "43  2013             42676.468370\n",
       "44  2014             41039.893600\n",
       "45  2015             35175.188980\n",
       "46  2016             34229.193630"
      ]
     },
     "execution_count": 2,
     "metadata": {},
     "output_type": "execute_result"
    }
   ],
   "source": [
    "dataset=pd.read_csv(\"captia_income.csv\")\n",
    "dataset"
   ]
  },
  {
   "cell_type": "markdown",
   "id": "2d66c243",
   "metadata": {},
   "source": [
    "## Step 3: To create Feature Matrix(X) and Dependent Variable Vector(Y)"
   ]
  },
  {
   "cell_type": "code",
   "execution_count": 3,
   "id": "90d985fc",
   "metadata": {},
   "outputs": [],
   "source": [
    "# [row_start : row_end , column_start : column_end]\n",
    "# leave blank if you want all values\n",
    "X=dataset.iloc[:,:-1].values#all rows, all except last column\n",
    "Y=dataset.iloc[:,-1].values#all rows, only last column"
   ]
  },
  {
   "cell_type": "markdown",
   "id": "d339297d",
   "metadata": {},
   "source": [
    "## Step 4: Replacing missing data(Not required)"
   ]
  },
  {
   "cell_type": "markdown",
   "id": "3bd1a376",
   "metadata": {},
   "source": [
    "## Step 5: Encoding(Not required)"
   ]
  },
  {
   "cell_type": "markdown",
   "id": "77436cd6",
   "metadata": {},
   "source": [
    "## Step 6: Splitting to data set into training data set and testing dataset"
   ]
  },
  {
   "cell_type": "code",
   "execution_count": 4,
   "id": "c957f519",
   "metadata": {},
   "outputs": [],
   "source": [
    "from sklearn.model_selection import train_test_split\n",
    "Xtrain,Xtest,Ytrain,Ytest=train_test_split(X,Y,test_size=0.2,random_state=1)\n",
    "# splits data set into train and test data in an 80:20 ratio"
   ]
  },
  {
   "cell_type": "code",
   "execution_count": 5,
   "id": "333bde46",
   "metadata": {},
   "outputs": [
    {
     "data": {
      "text/plain": [
       "array([[1989],\n",
       "       [2006],\n",
       "       [2016],\n",
       "       [2003],\n",
       "       [1993],\n",
       "       [2004],\n",
       "       [1997],\n",
       "       [1991],\n",
       "       [1983],\n",
       "       [2008],\n",
       "       [1987],\n",
       "       [2012],\n",
       "       [1974],\n",
       "       [1998],\n",
       "       [1984],\n",
       "       [1980],\n",
       "       [2011],\n",
       "       [2000],\n",
       "       [2001],\n",
       "       [2010],\n",
       "       [1990],\n",
       "       [1988],\n",
       "       [1995],\n",
       "       [1976],\n",
       "       [1977],\n",
       "       [2014],\n",
       "       [1971],\n",
       "       [1986],\n",
       "       [1970],\n",
       "       [1985],\n",
       "       [1975],\n",
       "       [1981],\n",
       "       [1979],\n",
       "       [1978],\n",
       "       [1982],\n",
       "       [2013],\n",
       "       [2007]], dtype=int64)"
      ]
     },
     "execution_count": 5,
     "metadata": {},
     "output_type": "execute_result"
    }
   ],
   "source": [
    "Xtrain"
   ]
  },
  {
   "cell_type": "code",
   "execution_count": 6,
   "id": "38958a38",
   "metadata": {},
   "outputs": [
    {
     "data": {
      "text/plain": [
       "array([[1994],\n",
       "       [1992],\n",
       "       [2009],\n",
       "       [2005],\n",
       "       [1972],\n",
       "       [1973],\n",
       "       [1999],\n",
       "       [2002],\n",
       "       [2015],\n",
       "       [1996]], dtype=int64)"
      ]
     },
     "execution_count": 6,
     "metadata": {},
     "output_type": "execute_result"
    }
   ],
   "source": [
    "Xtest"
   ]
  },
  {
   "cell_type": "code",
   "execution_count": 7,
   "id": "3aec5e16",
   "metadata": {},
   "outputs": [
    {
     "data": {
      "text/plain": [
       "array([16426.72548 , 32738.2629  , 34229.19363 , 22739.42628 ,\n",
       "       15875.58673 , 25719.14715 , 17310.75775 , 17266.09769 ,\n",
       "       10416.53659 , 37446.48609 , 12974.80662 , 42665.25597 ,\n",
       "        5576.514583, 16622.67187 , 10790.32872 ,  8355.96812 ,\n",
       "       42334.71121 , 18987.38241 , 18601.39724 , 38420.52289 ,\n",
       "       16838.6732  , 15080.28345 , 16369.31725 ,  7062.131392,\n",
       "        7100.12617 , 41039.8936  ,  3768.297935, 11482.89153 ,\n",
       "        3399.299037, 11018.95585 ,  5998.144346,  9434.390652,\n",
       "        7602.912681,  7247.967035,  9619.438377, 42676.46837 ,\n",
       "       36144.48122 ])"
      ]
     },
     "execution_count": 7,
     "metadata": {},
     "output_type": "execute_result"
    }
   ],
   "source": [
    "Ytrain"
   ]
  },
  {
   "cell_type": "markdown",
   "id": "6265edc7",
   "metadata": {},
   "source": [
    "## Step 7: Feature scaling(not required)\n",
    "**It is a good idea to Feature Scale if the range of data is very large. However, in regression, the range of the data is taken care of by itself, so we may or may not use feature scaling.**"
   ]
  },
  {
   "cell_type": "markdown",
   "id": "b12899e2",
   "metadata": {},
   "source": [
    "# Part B: Building Linear Model"
   ]
  },
  {
   "cell_type": "markdown",
   "id": "9199ec24",
   "metadata": {},
   "source": [
    "## Step 1: Training the linear model"
   ]
  },
  {
   "cell_type": "code",
   "execution_count": 8,
   "id": "5c9996fa",
   "metadata": {},
   "outputs": [
    {
     "data": {
      "text/plain": [
       "LinearRegression()"
      ]
     },
     "execution_count": 8,
     "metadata": {},
     "output_type": "execute_result"
    }
   ],
   "source": [
    "from sklearn.linear_model import LinearRegression\n",
    "LR=LinearRegression()\n",
    "LR.fit(Xtrain,Ytrain)"
   ]
  },
  {
   "cell_type": "markdown",
   "id": "57c7fa30",
   "metadata": {},
   "source": [
    "## Step 2: Testing the linear model"
   ]
  },
  {
   "cell_type": "code",
   "execution_count": 9,
   "id": "2265b392",
   "metadata": {},
   "outputs": [],
   "source": [
    "Yestimated=LR.predict(Xtest)"
   ]
  },
  {
   "cell_type": "code",
   "execution_count": 10,
   "id": "77924b67",
   "metadata": {},
   "outputs": [
    {
     "data": {
      "text/plain": [
       "array([20349.94572643, 18613.49135581, 33373.35350612, 29900.44476487,\n",
       "        1248.94764955,  2117.17483487, 24691.081653  , 27295.76320894,\n",
       "       38582.716618  , 22086.40009706])"
      ]
     },
     "execution_count": 10,
     "metadata": {},
     "output_type": "execute_result"
    }
   ],
   "source": [
    "Yestimated"
   ]
  },
  {
   "cell_type": "code",
   "execution_count": 11,
   "id": "a177ede8",
   "metadata": {},
   "outputs": [
    {
     "data": {
      "text/plain": [
       "array([15755.82027 , 16412.08309 , 32755.17682 , 29198.05569 ,\n",
       "        4251.175484,  4804.463248, 17581.02414 , 19232.17556 ,\n",
       "       35175.18898 , 16699.82668 ])"
      ]
     },
     "execution_count": 11,
     "metadata": {},
     "output_type": "execute_result"
    }
   ],
   "source": [
    "Ytest"
   ]
  },
  {
   "cell_type": "code",
   "execution_count": 12,
   "id": "924db011",
   "metadata": {},
   "outputs": [
    {
     "data": {
      "text/plain": [
       "array([[20349.94572643, 15755.82027   ],\n",
       "       [18613.49135581, 16412.08309   ],\n",
       "       [33373.35350612, 32755.17682   ],\n",
       "       [29900.44476487, 29198.05569   ],\n",
       "       [ 1248.94764955,  4251.175484  ],\n",
       "       [ 2117.17483487,  4804.463248  ],\n",
       "       [24691.081653  , 17581.02414   ],\n",
       "       [27295.76320894, 19232.17556   ],\n",
       "       [38582.716618  , 35175.18898   ],\n",
       "       [22086.40009706, 16699.82668   ]])"
      ]
     },
     "execution_count": 12,
     "metadata": {},
     "output_type": "execute_result"
    }
   ],
   "source": [
    "np.concatenate((Yestimated.reshape(len(Yestimated),1),Ytest.reshape(len(Ytest),1)),1)"
   ]
  },
  {
   "cell_type": "markdown",
   "id": "f7e26ef2",
   "metadata": {},
   "source": [
    "# Answering the question"
   ]
  },
  {
   "cell_type": "code",
   "execution_count": 13,
   "id": "2e2aaf78",
   "metadata": {},
   "outputs": [
    {
     "data": {
      "text/plain": [
       "array([43792.07972988])"
      ]
     },
     "execution_count": 13,
     "metadata": {},
     "output_type": "execute_result"
    }
   ],
   "source": [
    "LR.predict([[2021]])"
   ]
  }
 ],
 "metadata": {
  "kernelspec": {
   "display_name": "Python 3",
   "language": "python",
   "name": "python3"
  },
  "language_info": {
   "codemirror_mode": {
    "name": "ipython",
    "version": 3
   },
   "file_extension": ".py",
   "mimetype": "text/x-python",
   "name": "python",
   "nbconvert_exporter": "python",
   "pygments_lexer": "ipython3",
   "version": "3.8.8"
  }
 },
 "nbformat": 4,
 "nbformat_minor": 5
}
